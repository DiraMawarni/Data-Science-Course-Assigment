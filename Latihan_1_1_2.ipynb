{
  "cells": [
    {
      "cell_type": "markdown",
      "metadata": {
        "id": "view-in-github",
        "colab_type": "text"
      },
      "source": [
        "<a href=\"https://colab.research.google.com/github/DiraMawarni/Data-Science-Course-Assigment/blob/main/Latihan_1_1_2.ipynb\" target=\"_parent\"><img src=\"https://colab.research.google.com/assets/colab-badge.svg\" alt=\"Open In Colab\"/></a>"
      ]
    },
    {
      "cell_type": "markdown",
      "metadata": {
        "id": "p6BM_D03kvHJ"
      },
      "source": [
        "![header%20ipynb.png](attachment:header%20ipynb.png)"
      ]
    },
    {
      "cell_type": "markdown",
      "metadata": {
        "id": "LBTr6OG9kvHO"
      },
      "source": [
        "# Contoh Membuat Matriks Orde 2x2\n",
        "Berikut ini adalah syntax untuk membuat sebuah matriks yang diberi nama matriksA dengan ukuran/orde 2x2. Matriks orde 2x2 merupakan matriks yang memiliki nilai pada 2 baris dan 2 kolom. \n",
        "Pada contoh: \n",
        "matriksA memiliki:\n",
        "Baris 1 Kolom 1, nilai = 1\n",
        "Baris 1 Kolom 2, nilai = 0\n",
        "Baris 2 Kolom 1, nilai = 0\n",
        "Baris 2 Kolom 2, nilai = 1"
      ]
    },
    {
      "cell_type": "code",
      "execution_count": 27,
      "metadata": {
        "id": "7xKG3KMRkvHO",
        "colab": {
          "base_uri": "https://localhost:8080/"
        },
        "outputId": "ac348f1c-5148-49c9-9ba8-6af7247150f1"
      },
      "outputs": [
        {
          "output_type": "stream",
          "name": "stdout",
          "text": [
            "[[1, 0], [0, 1]]\n"
          ]
        }
      ],
      "source": [
        "#Matriks dengan ukuran 2x2\n",
        "matriksA = [ [1,0],[0,1] ]\n",
        "#Menampilkan matriks dengan nama matriksA\n",
        "print (matriksA)"
      ]
    },
    {
      "cell_type": "markdown",
      "metadata": {
        "id": "7jZPQZd5kvHP"
      },
      "source": [
        "# Contoh Membuat Matriks Orde 3x3\n",
        "Berikut ini adalah syntax untuk membuat sebuah matriks yang diberi nama matriksB dengan ukuran/orde 3x3. Matriks orde 3x3 merupakan matriks yang memiliki nilai pada 3 baris dan 3 kolom. \n",
        "Pada contoh: \n",
        "matriksB memiliki:\n",
        "Baris 1 Kolom 1, nilai = 1\n",
        "Baris 1 Kolom 2, nilai = 0\n",
        "Baris 1 Kolom 3, nilai = 1\n",
        "Baris 2 Kolom 1, nilai = 0\n",
        "Baris 2 Kolom 2, nilai = 1\n",
        "Baris 2 Kolom 3, nilai = 0\n",
        "Baris 3 Kolom 1, nilai = 1\n",
        "Baris 3 Kolom 2, nilai = 0\n",
        "Baris 3 Kolom 3, nilai = 1"
      ]
    },
    {
      "cell_type": "code",
      "execution_count": 28,
      "metadata": {
        "id": "RFCS5EsHkvHQ",
        "colab": {
          "base_uri": "https://localhost:8080/"
        },
        "outputId": "a8899509-be64-4b8e-d833-593a4ebb639b"
      },
      "outputs": [
        {
          "output_type": "stream",
          "name": "stdout",
          "text": [
            "[[1, 0, 1], [0, 1, 0], [1, 0, 1]]\n"
          ]
        }
      ],
      "source": [
        "#Matriks dengan ukuran 3x3\n",
        "matriksB = [ [1,0,1],[0,1,0],[1,0,1] ]\n",
        "#Menampilkan matriks dengan nama MatriksB\n",
        "print (matriksB)"
      ]
    },
    {
      "cell_type": "markdown",
      "metadata": {
        "id": "aI4pUzMgkvHR"
      },
      "source": [
        "# Latihan (1)\n",
        "Buatlah matriksC dengan orde 2x3, dan nilai yang diberikan pada matriksC adalah sebagai berikut:\n",
        "Baris 1 Kolom 1, nilai = 1\n",
        "Baris 1 Kolom 2, nilai = 2\n",
        "Baris 1 Kolom 3, nilai = 3\n",
        "Baris 2 Kolom 1, nilai = 4\n",
        "Baris 2 Kolom 2, nilai = 5\n",
        "Baris 2 Kolom 3, nilai = 6"
      ]
    },
    {
      "cell_type": "code",
      "execution_count": 29,
      "metadata": {
        "id": "4vgclWEtkvHR",
        "colab": {
          "base_uri": "https://localhost:8080/"
        },
        "outputId": "4ecfc34f-1f31-43f3-b52a-fdbfdc87116b"
      },
      "outputs": [
        {
          "output_type": "stream",
          "name": "stdout",
          "text": [
            "[[1, 2, 3], [4, 5, 6]]\n"
          ]
        }
      ],
      "source": [
        "#Latihan(1)\n",
        "#Matriks dengan ukuran 2x3\n",
        "matriksC = [ [1,2,3],[4,5,6]]\n",
        "\n",
        "#Menampilkan matriks dengan nama MatriksC\n",
        "print(matriksC)"
      ]
    },
    {
      "cell_type": "markdown",
      "metadata": {
        "id": "jxap5Lu_kvHT"
      },
      "source": [
        "# Latihan (2)\n",
        "Buatlah matriks dengan orde 3x2, dengan nilai adalah:\n",
        "Baris 1 Kolom 1, nilai = 2\n",
        "Baris 1 Kolom 2, nilai = 2\n",
        "Baris 2 Kolom 1, nilai = 2\n",
        "Baris 2 Kolom 2, nilai = 2\n",
        "Baris 3 Kolom 1, nilai = 2\n",
        "Baris 3 Kolom 2, nilai = 2"
      ]
    },
    {
      "cell_type": "code",
      "execution_count": 30,
      "metadata": {
        "id": "34a5gAFzkvHU",
        "colab": {
          "base_uri": "https://localhost:8080/"
        },
        "outputId": "496a5127-535d-42ad-c6cb-27324b1dbaf6"
      },
      "outputs": [
        {
          "output_type": "stream",
          "name": "stdout",
          "text": [
            "[[2, 2], [2, 2], [2, 2]]\n"
          ]
        }
      ],
      "source": [
        "#Latihan(2)\n",
        "#Matriks dengan menggunakan fungsi perulangan\n",
        "m = 3\n",
        "n = 2 \n",
        "x = [0]*m\n",
        "#Fungsi perulangan dengan menggunakan for\n",
        "for i in range(m): \n",
        "    x[i] = [2]*n \n",
        "#Menampilkan matriks\n",
        "print(x)"
      ]
    },
    {
      "cell_type": "markdown",
      "metadata": {
        "id": "Rx2uZJT9kvHV"
      },
      "source": [
        "# Latihan (3)\n",
        "Buatlah matriks dengan menggunakan Library Numpy dengan panjang elemen adalah 32 dan matriks memiliki orde 4x8"
      ]
    },
    {
      "cell_type": "code",
      "execution_count": 31,
      "metadata": {
        "id": "oU5KbBw7kvHV",
        "colab": {
          "base_uri": "https://localhost:8080/"
        },
        "outputId": "0cebe147-5c44-49e4-db23-378f599549b3"
      },
      "outputs": [
        {
          "output_type": "stream",
          "name": "stdout",
          "text": [
            "[[ 0  1  2  3  4  5  6  7]\n",
            " [ 8  9 10 11 12 13 14 15]\n",
            " [16 17 18 19 20 21 22 23]\n",
            " [24 25 26 27 28 29 30 31]]\n"
          ]
        }
      ],
      "source": [
        "#Latihan(3)\n",
        "#Panggil Library Numpy\n",
        "from numpy import * \n",
        "\n",
        "#Menentukan panjang elemen sebanyak 32\n",
        "matriks = range(32) \n",
        "\n",
        "#Matriks orde adalah 4x8\n",
        "matriks = reshape(matriks,(4,8)) \n",
        "#Menampilkan matriks\n",
        "print(matriks)"
      ]
    },
    {
      "cell_type": "markdown",
      "metadata": {
        "id": "C44s3NO8kvHW"
      },
      "source": [
        "# Latihan (4)\n",
        "Buatlah matriks dengan menggunakan Library Numpy dengan orde 3x30, dan nilai elemen dimulai dari indeks 1 sampai dengan 5 secara random."
      ]
    },
    {
      "cell_type": "code",
      "execution_count": 32,
      "metadata": {
        "id": "1k19YkvOkvHW",
        "colab": {
          "base_uri": "https://localhost:8080/"
        },
        "outputId": "7724e49a-e989-4d2c-f882-3cebcdf2c0d0"
      },
      "outputs": [
        {
          "output_type": "stream",
          "name": "stdout",
          "text": [
            "[[3 1 3 1 3 2 2 3 2 4 2 4 1 4 4 1 1 2 2 1 4 2 4 4 3 3 3 4 1 2]\n",
            " [4 4 2 1 3 2 2 4 1 3 2 4 2 1 1 3 4 4 3 1 3 1 3 1 4 1 2 2 1 4]\n",
            " [2 2 1 2 4 2 4 2 1 2 1 4 4 2 3 1 4 3 3 2 3 2 4 1 3 4 4 3 1 3]]\n"
          ]
        }
      ],
      "source": [
        "#Latihan(4)\n",
        "#Memanggil Library numpy dan diberikan nama alias np\n",
        "import numpy as np\n",
        "\n",
        "#Membuat matriks ukuran 3x30 dengan random\n",
        "matriks = np.random.randint(1,5,(3,30))\n",
        "\n",
        "#Menampilkan matriks\n",
        "print(matriks)"
      ]
    },
    {
      "cell_type": "markdown",
      "metadata": {
        "id": "owr6wcAlkvHX"
      },
      "source": [
        "# Latihan (5)\n",
        "\n",
        "Buatlah penjumlahan dua matriks dengan menggunakan library Numpy, dengan matriks berukuran 7x9 yang nilainya didapatkan secara random."
      ]
    },
    {
      "cell_type": "code",
      "execution_count": 33,
      "metadata": {
        "id": "TCreOH06kvHY",
        "colab": {
          "base_uri": "https://localhost:8080/"
        },
        "outputId": "111d463c-af42-472d-dc31-abef6515ff4a"
      },
      "outputs": [
        {
          "output_type": "stream",
          "name": "stdout",
          "text": [
            "[[6 4 2 1 1 4 1 1 3]\n",
            " [6 0 0 8 4 1 2 0 1]\n",
            " [3 8 7 0 1 7 1 7 4]\n",
            " [7 0 8 5 4 5 8 7 2]\n",
            " [3 7 4 3 8 3 6 0 5]\n",
            " [1 2 6 7 5 5 8 0 1]\n",
            " [6 1 7 4 6 0 5 6 3]]\n",
            "\n",
            "[[5 5 8 3 7 8 0 6 1]\n",
            " [2 0 8 2 2 7 4 2 5]\n",
            " [1 5 4 5 0 2 0 4 4]\n",
            " [5 1 4 1 7 5 7 8 8]\n",
            " [4 3 4 5 7 3 3 6 3]\n",
            " [6 3 4 7 8 3 7 4 0]\n",
            " [4 0 1 3 8 4 1 5 4]]\n",
            "\n",
            "\n",
            "11 9 10 4 8 12 1 7 4 \n",
            "\n",
            "8 0 8 10 6 8 6 2 6 \n",
            "\n",
            "4 13 11 5 1 9 1 11 8 \n",
            "\n",
            "12 1 12 6 11 10 15 15 10 \n",
            "\n",
            "7 10 8 8 15 6 9 6 8 \n",
            "\n",
            "7 5 10 14 13 8 15 4 1 \n",
            "\n",
            "10 1 8 7 14 4 6 11 7 \n"
          ]
        }
      ],
      "source": [
        "#Latihan(5)\n",
        "#Penjumlahan Matriks\n",
        "import numpy as np\n",
        "matriksA = np.random.randint(0, 9,(7, 9))\n",
        "matriksB = np.random.randint(0, 9,(7, 9))\n",
        "print (matriksA)\n",
        "print () #memberikan spasi baris pada matriks yang tercetak\n",
        "print (matriksB)\n",
        "print ()\n",
        "\n",
        "#penjumlahan matriksA dan matriks B\n",
        "for x in range(0, len(matriksA)):\n",
        "    print ()\n",
        "    for y in range(0, len(matriksA[0])):\n",
        "        print (matriksA[x][y] + matriksB[x][y], end=' '),\n",
        "    print ()"
      ]
    },
    {
      "cell_type": "markdown",
      "metadata": {
        "id": "3ADdnQqxkvHa"
      },
      "source": [
        "# Latihan (6)\n",
        "\n",
        "Buatlah pengurangan dua matriks dengan menggunakan library Numpy, dengan matriks berukuran 7x9 yang nilainya didapatkan secara random."
      ]
    },
    {
      "cell_type": "code",
      "execution_count": 34,
      "metadata": {
        "id": "DjGAOaivkvHa",
        "colab": {
          "base_uri": "https://localhost:8080/"
        },
        "outputId": "627bb5db-8b9b-4a77-ad7d-135a666df16f"
      },
      "outputs": [
        {
          "output_type": "stream",
          "name": "stdout",
          "text": [
            "[[6 2 7 7 0 0 8 6 0]\n",
            " [8 4 8 4 8 8 8 7 0]\n",
            " [3 6 4 5 7 6 2 4 1]\n",
            " [5 6 1 3 7 7 7 7 4]\n",
            " [7 4 2 0 4 4 1 6 8]\n",
            " [1 1 5 2 7 1 7 5 5]\n",
            " [5 3 3 3 4 6 5 6 3]]\n",
            "\n",
            "[[8 3 8 0 0 4 6 4 4]\n",
            " [4 6 4 4 0 2 3 0 2]\n",
            " [7 0 3 2 2 0 5 3 2]\n",
            " [8 0 8 3 0 6 6 4 5]\n",
            " [1 2 8 8 0 1 8 8 6]\n",
            " [1 8 5 5 8 0 6 3 7]\n",
            " [5 4 4 1 6 2 8 2 4]]\n",
            "\n",
            "\n",
            "-2 -1 -1 7 0 -4 2 2 -4 \n",
            "\n",
            "4 -2 4 0 8 6 5 7 -2 \n",
            "\n",
            "-4 6 1 3 5 6 -3 1 -1 \n",
            "\n",
            "-3 6 -7 0 7 1 1 3 -1 \n",
            "\n",
            "6 2 -6 -8 4 3 -7 -2 2 \n",
            "\n",
            "0 -7 0 -3 -1 1 1 2 -2 \n",
            "\n",
            "0 -1 -1 2 -2 4 -3 4 -1 \n"
          ]
        }
      ],
      "source": [
        "#Latihan(6)\n",
        "#Pengurangan Matriks\n",
        "import numpy as np\n",
        "matriksA = np.random.randint(0, 9,(7, 9))\n",
        "matriksB = np.random.randint(0, 9,(7, 9))\n",
        "print (matriksA)\n",
        "print () #memberikan spasi baris pada matriks yang tercetak\n",
        "print (matriksB)\n",
        "print ()\n",
        "\n",
        "#pengurangan matriksA dengan matriks B\n",
        "for x in range(0, len(matriksA)):\n",
        "    print ()\n",
        "    for y in range(0, len(matriksA[0])):\n",
        "        print (matriksA[x][y] - matriksB[x][y], end=' '),\n",
        "    print ()"
      ]
    },
    {
      "cell_type": "markdown",
      "metadata": {
        "id": "zCilT7FEkvHa"
      },
      "source": [
        "# Penggunaan Library Pandas"
      ]
    },
    {
      "cell_type": "markdown",
      "metadata": {
        "id": "m9gxiRRQkvHa"
      },
      "source": [
        "# Latihan (7)\n",
        "\n",
        "Lakukan import Library Pandas"
      ]
    },
    {
      "cell_type": "code",
      "execution_count": 35,
      "metadata": {
        "id": "KSzkWSzykvHb"
      },
      "outputs": [],
      "source": [
        "#Latihan(7)\n",
        "#Import Library Pandas\n",
        "\n",
        "import pandas as pd"
      ]
    },
    {
      "cell_type": "markdown",
      "metadata": {
        "id": "H_YNo9m3kvHb"
      },
      "source": [
        "# Latihan (8)\n",
        "\n",
        "Panggil file dengan format .csv yang bernama \"meets\""
      ]
    },
    {
      "cell_type": "code",
      "execution_count": 45,
      "metadata": {
        "id": "QXeG9BwOkvHd"
      },
      "outputs": [],
      "source": [
        "#latihan(8)\n",
        "#Panggil file bernama meets.csv\n",
        "\n",
        "df = pd.read_csv(\"https://raw.githubusercontent.com/DiraMawarni/Data-Science-Course-Assigment/main/meets.csv\")"
      ]
    },
    {
      "cell_type": "markdown",
      "metadata": {
        "id": "rfKegq2jkvHd"
      },
      "source": [
        "# Latihan (9)\n",
        "\n",
        "Tampilkan data dari \"cloth_data\" "
      ]
    },
    {
      "cell_type": "code",
      "execution_count": 37,
      "metadata": {
        "id": "O8sG9ipjkvHd",
        "colab": {
          "base_uri": "https://localhost:8080/",
          "height": 423
        },
        "outputId": "3a93a333-feac-4ceb-cd80-f2cb76be8045"
      },
      "outputs": [
        {
          "output_type": "execute_result",
          "data": {
            "text/plain": [
              "      MeetID                   MeetPath Federation        Date MeetCountry  \\\n",
              "0          0             365strong/1601  365Strong  2016-10-29         USA   \n",
              "1          1             365strong/1602  365Strong  2016-11-19         USA   \n",
              "2          2             365strong/1603  365Strong  2016-07-09         USA   \n",
              "3          3             365strong/1604  365Strong  2016-06-11         USA   \n",
              "4          4             365strong/1605  365Strong  2016-04-10         USA   \n",
              "...      ...                        ...        ...         ...         ...   \n",
              "8477    8477            xpc/2015-finals        XPC  2015-03-06         USA   \n",
              "8478    8478  xpc/2016-bench-freak-show        XPC  2016-03-04         USA   \n",
              "8479    8479      xpc/2016-elite-finals        XPC  2016-03-04         USA   \n",
              "8480    8480        xpc/2016-pro-finals        XPC  2016-03-05         USA   \n",
              "8481    8481            xpc/2017-finals        XPC  2017-03-03         USA   \n",
              "\n",
              "     MeetState   MeetTown                                           MeetName  \n",
              "0           NC  Charlotte  2016 Junior & Senior National Powerlifting Cha...  \n",
              "1           MO      Ozark                  Thanksgiving Powerlifting Classic  \n",
              "2           NC  Charlotte                             Charlotte Europa Games  \n",
              "3           SC  Rock Hill                   Carolina Cup Push Pull Challenge  \n",
              "4           SC  Rock Hill                              Eastern USA Challenge  \n",
              "...        ...        ...                                                ...  \n",
              "8477        OH   Columbus                                           2015 XPC  \n",
              "8478        OH   Columbus                          2016 XPC Bench Freak Show  \n",
              "8479        OH   Columbus                              2016 XPC Elite Finals  \n",
              "8480        OH   Columbus                                2016 XPC PRO Finals  \n",
              "8481        OH   Columbus                                    2017 XPC Finals  \n",
              "\n",
              "[8482 rows x 8 columns]"
            ],
            "text/html": [
              "\n",
              "  <div id=\"df-2db1d41d-233f-4de2-90ee-e46d8553bdb2\">\n",
              "    <div class=\"colab-df-container\">\n",
              "      <div>\n",
              "<style scoped>\n",
              "    .dataframe tbody tr th:only-of-type {\n",
              "        vertical-align: middle;\n",
              "    }\n",
              "\n",
              "    .dataframe tbody tr th {\n",
              "        vertical-align: top;\n",
              "    }\n",
              "\n",
              "    .dataframe thead th {\n",
              "        text-align: right;\n",
              "    }\n",
              "</style>\n",
              "<table border=\"1\" class=\"dataframe\">\n",
              "  <thead>\n",
              "    <tr style=\"text-align: right;\">\n",
              "      <th></th>\n",
              "      <th>MeetID</th>\n",
              "      <th>MeetPath</th>\n",
              "      <th>Federation</th>\n",
              "      <th>Date</th>\n",
              "      <th>MeetCountry</th>\n",
              "      <th>MeetState</th>\n",
              "      <th>MeetTown</th>\n",
              "      <th>MeetName</th>\n",
              "    </tr>\n",
              "  </thead>\n",
              "  <tbody>\n",
              "    <tr>\n",
              "      <th>0</th>\n",
              "      <td>0</td>\n",
              "      <td>365strong/1601</td>\n",
              "      <td>365Strong</td>\n",
              "      <td>2016-10-29</td>\n",
              "      <td>USA</td>\n",
              "      <td>NC</td>\n",
              "      <td>Charlotte</td>\n",
              "      <td>2016 Junior &amp; Senior National Powerlifting Cha...</td>\n",
              "    </tr>\n",
              "    <tr>\n",
              "      <th>1</th>\n",
              "      <td>1</td>\n",
              "      <td>365strong/1602</td>\n",
              "      <td>365Strong</td>\n",
              "      <td>2016-11-19</td>\n",
              "      <td>USA</td>\n",
              "      <td>MO</td>\n",
              "      <td>Ozark</td>\n",
              "      <td>Thanksgiving Powerlifting Classic</td>\n",
              "    </tr>\n",
              "    <tr>\n",
              "      <th>2</th>\n",
              "      <td>2</td>\n",
              "      <td>365strong/1603</td>\n",
              "      <td>365Strong</td>\n",
              "      <td>2016-07-09</td>\n",
              "      <td>USA</td>\n",
              "      <td>NC</td>\n",
              "      <td>Charlotte</td>\n",
              "      <td>Charlotte Europa Games</td>\n",
              "    </tr>\n",
              "    <tr>\n",
              "      <th>3</th>\n",
              "      <td>3</td>\n",
              "      <td>365strong/1604</td>\n",
              "      <td>365Strong</td>\n",
              "      <td>2016-06-11</td>\n",
              "      <td>USA</td>\n",
              "      <td>SC</td>\n",
              "      <td>Rock Hill</td>\n",
              "      <td>Carolina Cup Push Pull Challenge</td>\n",
              "    </tr>\n",
              "    <tr>\n",
              "      <th>4</th>\n",
              "      <td>4</td>\n",
              "      <td>365strong/1605</td>\n",
              "      <td>365Strong</td>\n",
              "      <td>2016-04-10</td>\n",
              "      <td>USA</td>\n",
              "      <td>SC</td>\n",
              "      <td>Rock Hill</td>\n",
              "      <td>Eastern USA Challenge</td>\n",
              "    </tr>\n",
              "    <tr>\n",
              "      <th>...</th>\n",
              "      <td>...</td>\n",
              "      <td>...</td>\n",
              "      <td>...</td>\n",
              "      <td>...</td>\n",
              "      <td>...</td>\n",
              "      <td>...</td>\n",
              "      <td>...</td>\n",
              "      <td>...</td>\n",
              "    </tr>\n",
              "    <tr>\n",
              "      <th>8477</th>\n",
              "      <td>8477</td>\n",
              "      <td>xpc/2015-finals</td>\n",
              "      <td>XPC</td>\n",
              "      <td>2015-03-06</td>\n",
              "      <td>USA</td>\n",
              "      <td>OH</td>\n",
              "      <td>Columbus</td>\n",
              "      <td>2015 XPC</td>\n",
              "    </tr>\n",
              "    <tr>\n",
              "      <th>8478</th>\n",
              "      <td>8478</td>\n",
              "      <td>xpc/2016-bench-freak-show</td>\n",
              "      <td>XPC</td>\n",
              "      <td>2016-03-04</td>\n",
              "      <td>USA</td>\n",
              "      <td>OH</td>\n",
              "      <td>Columbus</td>\n",
              "      <td>2016 XPC Bench Freak Show</td>\n",
              "    </tr>\n",
              "    <tr>\n",
              "      <th>8479</th>\n",
              "      <td>8479</td>\n",
              "      <td>xpc/2016-elite-finals</td>\n",
              "      <td>XPC</td>\n",
              "      <td>2016-03-04</td>\n",
              "      <td>USA</td>\n",
              "      <td>OH</td>\n",
              "      <td>Columbus</td>\n",
              "      <td>2016 XPC Elite Finals</td>\n",
              "    </tr>\n",
              "    <tr>\n",
              "      <th>8480</th>\n",
              "      <td>8480</td>\n",
              "      <td>xpc/2016-pro-finals</td>\n",
              "      <td>XPC</td>\n",
              "      <td>2016-03-05</td>\n",
              "      <td>USA</td>\n",
              "      <td>OH</td>\n",
              "      <td>Columbus</td>\n",
              "      <td>2016 XPC PRO Finals</td>\n",
              "    </tr>\n",
              "    <tr>\n",
              "      <th>8481</th>\n",
              "      <td>8481</td>\n",
              "      <td>xpc/2017-finals</td>\n",
              "      <td>XPC</td>\n",
              "      <td>2017-03-03</td>\n",
              "      <td>USA</td>\n",
              "      <td>OH</td>\n",
              "      <td>Columbus</td>\n",
              "      <td>2017 XPC Finals</td>\n",
              "    </tr>\n",
              "  </tbody>\n",
              "</table>\n",
              "<p>8482 rows × 8 columns</p>\n",
              "</div>\n",
              "      <button class=\"colab-df-convert\" onclick=\"convertToInteractive('df-2db1d41d-233f-4de2-90ee-e46d8553bdb2')\"\n",
              "              title=\"Convert this dataframe to an interactive table.\"\n",
              "              style=\"display:none;\">\n",
              "        \n",
              "  <svg xmlns=\"http://www.w3.org/2000/svg\" height=\"24px\"viewBox=\"0 0 24 24\"\n",
              "       width=\"24px\">\n",
              "    <path d=\"M0 0h24v24H0V0z\" fill=\"none\"/>\n",
              "    <path d=\"M18.56 5.44l.94 2.06.94-2.06 2.06-.94-2.06-.94-.94-2.06-.94 2.06-2.06.94zm-11 1L8.5 8.5l.94-2.06 2.06-.94-2.06-.94L8.5 2.5l-.94 2.06-2.06.94zm10 10l.94 2.06.94-2.06 2.06-.94-2.06-.94-.94-2.06-.94 2.06-2.06.94z\"/><path d=\"M17.41 7.96l-1.37-1.37c-.4-.4-.92-.59-1.43-.59-.52 0-1.04.2-1.43.59L10.3 9.45l-7.72 7.72c-.78.78-.78 2.05 0 2.83L4 21.41c.39.39.9.59 1.41.59.51 0 1.02-.2 1.41-.59l7.78-7.78 2.81-2.81c.8-.78.8-2.07 0-2.86zM5.41 20L4 18.59l7.72-7.72 1.47 1.35L5.41 20z\"/>\n",
              "  </svg>\n",
              "      </button>\n",
              "      \n",
              "  <style>\n",
              "    .colab-df-container {\n",
              "      display:flex;\n",
              "      flex-wrap:wrap;\n",
              "      gap: 12px;\n",
              "    }\n",
              "\n",
              "    .colab-df-convert {\n",
              "      background-color: #E8F0FE;\n",
              "      border: none;\n",
              "      border-radius: 50%;\n",
              "      cursor: pointer;\n",
              "      display: none;\n",
              "      fill: #1967D2;\n",
              "      height: 32px;\n",
              "      padding: 0 0 0 0;\n",
              "      width: 32px;\n",
              "    }\n",
              "\n",
              "    .colab-df-convert:hover {\n",
              "      background-color: #E2EBFA;\n",
              "      box-shadow: 0px 1px 2px rgba(60, 64, 67, 0.3), 0px 1px 3px 1px rgba(60, 64, 67, 0.15);\n",
              "      fill: #174EA6;\n",
              "    }\n",
              "\n",
              "    [theme=dark] .colab-df-convert {\n",
              "      background-color: #3B4455;\n",
              "      fill: #D2E3FC;\n",
              "    }\n",
              "\n",
              "    [theme=dark] .colab-df-convert:hover {\n",
              "      background-color: #434B5C;\n",
              "      box-shadow: 0px 1px 3px 1px rgba(0, 0, 0, 0.15);\n",
              "      filter: drop-shadow(0px 1px 2px rgba(0, 0, 0, 0.3));\n",
              "      fill: #FFFFFF;\n",
              "    }\n",
              "  </style>\n",
              "\n",
              "      <script>\n",
              "        const buttonEl =\n",
              "          document.querySelector('#df-2db1d41d-233f-4de2-90ee-e46d8553bdb2 button.colab-df-convert');\n",
              "        buttonEl.style.display =\n",
              "          google.colab.kernel.accessAllowed ? 'block' : 'none';\n",
              "\n",
              "        async function convertToInteractive(key) {\n",
              "          const element = document.querySelector('#df-2db1d41d-233f-4de2-90ee-e46d8553bdb2');\n",
              "          const dataTable =\n",
              "            await google.colab.kernel.invokeFunction('convertToInteractive',\n",
              "                                                     [key], {});\n",
              "          if (!dataTable) return;\n",
              "\n",
              "          const docLinkHtml = 'Like what you see? Visit the ' +\n",
              "            '<a target=\"_blank\" href=https://colab.research.google.com/notebooks/data_table.ipynb>data table notebook</a>'\n",
              "            + ' to learn more about interactive tables.';\n",
              "          element.innerHTML = '';\n",
              "          dataTable['output_type'] = 'display_data';\n",
              "          await google.colab.output.renderOutput(dataTable, element);\n",
              "          const docLink = document.createElement('div');\n",
              "          docLink.innerHTML = docLinkHtml;\n",
              "          element.appendChild(docLink);\n",
              "        }\n",
              "      </script>\n",
              "    </div>\n",
              "  </div>\n",
              "  "
            ]
          },
          "metadata": {},
          "execution_count": 37
        }
      ],
      "source": [
        "#latihan(9)\n",
        "#Tampilkan data dari dataset meets \n",
        "\n",
        "df"
      ]
    },
    {
      "cell_type": "markdown",
      "metadata": {
        "id": "Akhig7y-kvHd"
      },
      "source": [
        "# Latihan (10)\n",
        "\n",
        "Tampilkan data dari \"meets\" mulai dari indeks 0 (nol) sampai dengan indeks 10 (sepuluh)"
      ]
    },
    {
      "cell_type": "code",
      "execution_count": 38,
      "metadata": {
        "id": "wuijGJJ7kvHd",
        "colab": {
          "base_uri": "https://localhost:8080/",
          "height": 394
        },
        "outputId": "6d9d64ca-563b-4b32-ab47-cf9ebfecd61f"
      },
      "outputs": [
        {
          "output_type": "execute_result",
          "data": {
            "text/plain": [
              "    MeetID        MeetPath Federation        Date MeetCountry MeetState  \\\n",
              "0        0  365strong/1601  365Strong  2016-10-29         USA        NC   \n",
              "1        1  365strong/1602  365Strong  2016-11-19         USA        MO   \n",
              "2        2  365strong/1603  365Strong  2016-07-09         USA        NC   \n",
              "3        3  365strong/1604  365Strong  2016-06-11         USA        SC   \n",
              "4        4  365strong/1605  365Strong  2016-04-10         USA        SC   \n",
              "5        5  365strong/1701  365Strong  2017-04-22         USA        NC   \n",
              "6        6  365strong/1702  365Strong  2017-01-21         USA        GA   \n",
              "7        7  365strong/1703  365Strong  2017-06-10         USA        MO   \n",
              "8        8  365strong/1704  365Strong  2017-07-15         USA        SC   \n",
              "9        9  365strong/1705  365Strong  2017-08-12         USA        NC   \n",
              "10      10  365strong/1706  365Strong  2017-09-30         USA        IN   \n",
              "\n",
              "        MeetTown                                           MeetName  \n",
              "0      Charlotte  2016 Junior & Senior National Powerlifting Cha...  \n",
              "1          Ozark                  Thanksgiving Powerlifting Classic  \n",
              "2      Charlotte                             Charlotte Europa Games  \n",
              "3      Rock Hill                   Carolina Cup Push Pull Challenge  \n",
              "4      Rock Hill                              Eastern USA Challenge  \n",
              "5      Charlotte                             Charlotte Europa Games  \n",
              "6       Martinez                                 New Year Challenge  \n",
              "7     Lake Ozark                                  Midwest Regionals  \n",
              "8      Rock Hill                              Victory Cup Challenge  \n",
              "9   Fayetteville                      Eastern Regional Championship  \n",
              "10    Evansville  Ohio Valley Regional Open Powerlifting Champio...  "
            ],
            "text/html": [
              "\n",
              "  <div id=\"df-a3e62848-1c7e-4260-ab4d-22e2cbb5b510\">\n",
              "    <div class=\"colab-df-container\">\n",
              "      <div>\n",
              "<style scoped>\n",
              "    .dataframe tbody tr th:only-of-type {\n",
              "        vertical-align: middle;\n",
              "    }\n",
              "\n",
              "    .dataframe tbody tr th {\n",
              "        vertical-align: top;\n",
              "    }\n",
              "\n",
              "    .dataframe thead th {\n",
              "        text-align: right;\n",
              "    }\n",
              "</style>\n",
              "<table border=\"1\" class=\"dataframe\">\n",
              "  <thead>\n",
              "    <tr style=\"text-align: right;\">\n",
              "      <th></th>\n",
              "      <th>MeetID</th>\n",
              "      <th>MeetPath</th>\n",
              "      <th>Federation</th>\n",
              "      <th>Date</th>\n",
              "      <th>MeetCountry</th>\n",
              "      <th>MeetState</th>\n",
              "      <th>MeetTown</th>\n",
              "      <th>MeetName</th>\n",
              "    </tr>\n",
              "  </thead>\n",
              "  <tbody>\n",
              "    <tr>\n",
              "      <th>0</th>\n",
              "      <td>0</td>\n",
              "      <td>365strong/1601</td>\n",
              "      <td>365Strong</td>\n",
              "      <td>2016-10-29</td>\n",
              "      <td>USA</td>\n",
              "      <td>NC</td>\n",
              "      <td>Charlotte</td>\n",
              "      <td>2016 Junior &amp; Senior National Powerlifting Cha...</td>\n",
              "    </tr>\n",
              "    <tr>\n",
              "      <th>1</th>\n",
              "      <td>1</td>\n",
              "      <td>365strong/1602</td>\n",
              "      <td>365Strong</td>\n",
              "      <td>2016-11-19</td>\n",
              "      <td>USA</td>\n",
              "      <td>MO</td>\n",
              "      <td>Ozark</td>\n",
              "      <td>Thanksgiving Powerlifting Classic</td>\n",
              "    </tr>\n",
              "    <tr>\n",
              "      <th>2</th>\n",
              "      <td>2</td>\n",
              "      <td>365strong/1603</td>\n",
              "      <td>365Strong</td>\n",
              "      <td>2016-07-09</td>\n",
              "      <td>USA</td>\n",
              "      <td>NC</td>\n",
              "      <td>Charlotte</td>\n",
              "      <td>Charlotte Europa Games</td>\n",
              "    </tr>\n",
              "    <tr>\n",
              "      <th>3</th>\n",
              "      <td>3</td>\n",
              "      <td>365strong/1604</td>\n",
              "      <td>365Strong</td>\n",
              "      <td>2016-06-11</td>\n",
              "      <td>USA</td>\n",
              "      <td>SC</td>\n",
              "      <td>Rock Hill</td>\n",
              "      <td>Carolina Cup Push Pull Challenge</td>\n",
              "    </tr>\n",
              "    <tr>\n",
              "      <th>4</th>\n",
              "      <td>4</td>\n",
              "      <td>365strong/1605</td>\n",
              "      <td>365Strong</td>\n",
              "      <td>2016-04-10</td>\n",
              "      <td>USA</td>\n",
              "      <td>SC</td>\n",
              "      <td>Rock Hill</td>\n",
              "      <td>Eastern USA Challenge</td>\n",
              "    </tr>\n",
              "    <tr>\n",
              "      <th>5</th>\n",
              "      <td>5</td>\n",
              "      <td>365strong/1701</td>\n",
              "      <td>365Strong</td>\n",
              "      <td>2017-04-22</td>\n",
              "      <td>USA</td>\n",
              "      <td>NC</td>\n",
              "      <td>Charlotte</td>\n",
              "      <td>Charlotte Europa Games</td>\n",
              "    </tr>\n",
              "    <tr>\n",
              "      <th>6</th>\n",
              "      <td>6</td>\n",
              "      <td>365strong/1702</td>\n",
              "      <td>365Strong</td>\n",
              "      <td>2017-01-21</td>\n",
              "      <td>USA</td>\n",
              "      <td>GA</td>\n",
              "      <td>Martinez</td>\n",
              "      <td>New Year Challenge</td>\n",
              "    </tr>\n",
              "    <tr>\n",
              "      <th>7</th>\n",
              "      <td>7</td>\n",
              "      <td>365strong/1703</td>\n",
              "      <td>365Strong</td>\n",
              "      <td>2017-06-10</td>\n",
              "      <td>USA</td>\n",
              "      <td>MO</td>\n",
              "      <td>Lake Ozark</td>\n",
              "      <td>Midwest Regionals</td>\n",
              "    </tr>\n",
              "    <tr>\n",
              "      <th>8</th>\n",
              "      <td>8</td>\n",
              "      <td>365strong/1704</td>\n",
              "      <td>365Strong</td>\n",
              "      <td>2017-07-15</td>\n",
              "      <td>USA</td>\n",
              "      <td>SC</td>\n",
              "      <td>Rock Hill</td>\n",
              "      <td>Victory Cup Challenge</td>\n",
              "    </tr>\n",
              "    <tr>\n",
              "      <th>9</th>\n",
              "      <td>9</td>\n",
              "      <td>365strong/1705</td>\n",
              "      <td>365Strong</td>\n",
              "      <td>2017-08-12</td>\n",
              "      <td>USA</td>\n",
              "      <td>NC</td>\n",
              "      <td>Fayetteville</td>\n",
              "      <td>Eastern Regional Championship</td>\n",
              "    </tr>\n",
              "    <tr>\n",
              "      <th>10</th>\n",
              "      <td>10</td>\n",
              "      <td>365strong/1706</td>\n",
              "      <td>365Strong</td>\n",
              "      <td>2017-09-30</td>\n",
              "      <td>USA</td>\n",
              "      <td>IN</td>\n",
              "      <td>Evansville</td>\n",
              "      <td>Ohio Valley Regional Open Powerlifting Champio...</td>\n",
              "    </tr>\n",
              "  </tbody>\n",
              "</table>\n",
              "</div>\n",
              "      <button class=\"colab-df-convert\" onclick=\"convertToInteractive('df-a3e62848-1c7e-4260-ab4d-22e2cbb5b510')\"\n",
              "              title=\"Convert this dataframe to an interactive table.\"\n",
              "              style=\"display:none;\">\n",
              "        \n",
              "  <svg xmlns=\"http://www.w3.org/2000/svg\" height=\"24px\"viewBox=\"0 0 24 24\"\n",
              "       width=\"24px\">\n",
              "    <path d=\"M0 0h24v24H0V0z\" fill=\"none\"/>\n",
              "    <path d=\"M18.56 5.44l.94 2.06.94-2.06 2.06-.94-2.06-.94-.94-2.06-.94 2.06-2.06.94zm-11 1L8.5 8.5l.94-2.06 2.06-.94-2.06-.94L8.5 2.5l-.94 2.06-2.06.94zm10 10l.94 2.06.94-2.06 2.06-.94-2.06-.94-.94-2.06-.94 2.06-2.06.94z\"/><path d=\"M17.41 7.96l-1.37-1.37c-.4-.4-.92-.59-1.43-.59-.52 0-1.04.2-1.43.59L10.3 9.45l-7.72 7.72c-.78.78-.78 2.05 0 2.83L4 21.41c.39.39.9.59 1.41.59.51 0 1.02-.2 1.41-.59l7.78-7.78 2.81-2.81c.8-.78.8-2.07 0-2.86zM5.41 20L4 18.59l7.72-7.72 1.47 1.35L5.41 20z\"/>\n",
              "  </svg>\n",
              "      </button>\n",
              "      \n",
              "  <style>\n",
              "    .colab-df-container {\n",
              "      display:flex;\n",
              "      flex-wrap:wrap;\n",
              "      gap: 12px;\n",
              "    }\n",
              "\n",
              "    .colab-df-convert {\n",
              "      background-color: #E8F0FE;\n",
              "      border: none;\n",
              "      border-radius: 50%;\n",
              "      cursor: pointer;\n",
              "      display: none;\n",
              "      fill: #1967D2;\n",
              "      height: 32px;\n",
              "      padding: 0 0 0 0;\n",
              "      width: 32px;\n",
              "    }\n",
              "\n",
              "    .colab-df-convert:hover {\n",
              "      background-color: #E2EBFA;\n",
              "      box-shadow: 0px 1px 2px rgba(60, 64, 67, 0.3), 0px 1px 3px 1px rgba(60, 64, 67, 0.15);\n",
              "      fill: #174EA6;\n",
              "    }\n",
              "\n",
              "    [theme=dark] .colab-df-convert {\n",
              "      background-color: #3B4455;\n",
              "      fill: #D2E3FC;\n",
              "    }\n",
              "\n",
              "    [theme=dark] .colab-df-convert:hover {\n",
              "      background-color: #434B5C;\n",
              "      box-shadow: 0px 1px 3px 1px rgba(0, 0, 0, 0.15);\n",
              "      filter: drop-shadow(0px 1px 2px rgba(0, 0, 0, 0.3));\n",
              "      fill: #FFFFFF;\n",
              "    }\n",
              "  </style>\n",
              "\n",
              "      <script>\n",
              "        const buttonEl =\n",
              "          document.querySelector('#df-a3e62848-1c7e-4260-ab4d-22e2cbb5b510 button.colab-df-convert');\n",
              "        buttonEl.style.display =\n",
              "          google.colab.kernel.accessAllowed ? 'block' : 'none';\n",
              "\n",
              "        async function convertToInteractive(key) {\n",
              "          const element = document.querySelector('#df-a3e62848-1c7e-4260-ab4d-22e2cbb5b510');\n",
              "          const dataTable =\n",
              "            await google.colab.kernel.invokeFunction('convertToInteractive',\n",
              "                                                     [key], {});\n",
              "          if (!dataTable) return;\n",
              "\n",
              "          const docLinkHtml = 'Like what you see? Visit the ' +\n",
              "            '<a target=\"_blank\" href=https://colab.research.google.com/notebooks/data_table.ipynb>data table notebook</a>'\n",
              "            + ' to learn more about interactive tables.';\n",
              "          element.innerHTML = '';\n",
              "          dataTable['output_type'] = 'display_data';\n",
              "          await google.colab.output.renderOutput(dataTable, element);\n",
              "          const docLink = document.createElement('div');\n",
              "          docLink.innerHTML = docLinkHtml;\n",
              "          element.appendChild(docLink);\n",
              "        }\n",
              "      </script>\n",
              "    </div>\n",
              "  </div>\n",
              "  "
            ]
          },
          "metadata": {},
          "execution_count": 38
        }
      ],
      "source": [
        "#Latihan(10)\n",
        "#Tampilkan data dari \"meets\" mulai dari indeks 0 (nol) sampai dengan indeks 10 (sepuluh)\n",
        "\n",
        "df.head(11)\n"
      ]
    },
    {
      "cell_type": "markdown",
      "metadata": {
        "id": "0rajTsHvkvHd"
      },
      "source": [
        "# Latihan (11)\n",
        "\n",
        "Tampilkan data dari \"meets\" untuk kolom MeetID dan MeetPath"
      ]
    },
    {
      "cell_type": "code",
      "execution_count": 39,
      "metadata": {
        "id": "pp2pJB83kvHe",
        "colab": {
          "base_uri": "https://localhost:8080/",
          "height": 423
        },
        "outputId": "ff3ac719-06bd-4f52-d8dd-223cc0a5cd70"
      },
      "outputs": [
        {
          "output_type": "execute_result",
          "data": {
            "text/plain": [
              "      MeetID                   MeetPath\n",
              "0          0             365strong/1601\n",
              "1          1             365strong/1602\n",
              "2          2             365strong/1603\n",
              "3          3             365strong/1604\n",
              "4          4             365strong/1605\n",
              "...      ...                        ...\n",
              "8477    8477            xpc/2015-finals\n",
              "8478    8478  xpc/2016-bench-freak-show\n",
              "8479    8479      xpc/2016-elite-finals\n",
              "8480    8480        xpc/2016-pro-finals\n",
              "8481    8481            xpc/2017-finals\n",
              "\n",
              "[8482 rows x 2 columns]"
            ],
            "text/html": [
              "\n",
              "  <div id=\"df-efd96519-85c5-4a1c-9d62-957e0b171461\">\n",
              "    <div class=\"colab-df-container\">\n",
              "      <div>\n",
              "<style scoped>\n",
              "    .dataframe tbody tr th:only-of-type {\n",
              "        vertical-align: middle;\n",
              "    }\n",
              "\n",
              "    .dataframe tbody tr th {\n",
              "        vertical-align: top;\n",
              "    }\n",
              "\n",
              "    .dataframe thead th {\n",
              "        text-align: right;\n",
              "    }\n",
              "</style>\n",
              "<table border=\"1\" class=\"dataframe\">\n",
              "  <thead>\n",
              "    <tr style=\"text-align: right;\">\n",
              "      <th></th>\n",
              "      <th>MeetID</th>\n",
              "      <th>MeetPath</th>\n",
              "    </tr>\n",
              "  </thead>\n",
              "  <tbody>\n",
              "    <tr>\n",
              "      <th>0</th>\n",
              "      <td>0</td>\n",
              "      <td>365strong/1601</td>\n",
              "    </tr>\n",
              "    <tr>\n",
              "      <th>1</th>\n",
              "      <td>1</td>\n",
              "      <td>365strong/1602</td>\n",
              "    </tr>\n",
              "    <tr>\n",
              "      <th>2</th>\n",
              "      <td>2</td>\n",
              "      <td>365strong/1603</td>\n",
              "    </tr>\n",
              "    <tr>\n",
              "      <th>3</th>\n",
              "      <td>3</td>\n",
              "      <td>365strong/1604</td>\n",
              "    </tr>\n",
              "    <tr>\n",
              "      <th>4</th>\n",
              "      <td>4</td>\n",
              "      <td>365strong/1605</td>\n",
              "    </tr>\n",
              "    <tr>\n",
              "      <th>...</th>\n",
              "      <td>...</td>\n",
              "      <td>...</td>\n",
              "    </tr>\n",
              "    <tr>\n",
              "      <th>8477</th>\n",
              "      <td>8477</td>\n",
              "      <td>xpc/2015-finals</td>\n",
              "    </tr>\n",
              "    <tr>\n",
              "      <th>8478</th>\n",
              "      <td>8478</td>\n",
              "      <td>xpc/2016-bench-freak-show</td>\n",
              "    </tr>\n",
              "    <tr>\n",
              "      <th>8479</th>\n",
              "      <td>8479</td>\n",
              "      <td>xpc/2016-elite-finals</td>\n",
              "    </tr>\n",
              "    <tr>\n",
              "      <th>8480</th>\n",
              "      <td>8480</td>\n",
              "      <td>xpc/2016-pro-finals</td>\n",
              "    </tr>\n",
              "    <tr>\n",
              "      <th>8481</th>\n",
              "      <td>8481</td>\n",
              "      <td>xpc/2017-finals</td>\n",
              "    </tr>\n",
              "  </tbody>\n",
              "</table>\n",
              "<p>8482 rows × 2 columns</p>\n",
              "</div>\n",
              "      <button class=\"colab-df-convert\" onclick=\"convertToInteractive('df-efd96519-85c5-4a1c-9d62-957e0b171461')\"\n",
              "              title=\"Convert this dataframe to an interactive table.\"\n",
              "              style=\"display:none;\">\n",
              "        \n",
              "  <svg xmlns=\"http://www.w3.org/2000/svg\" height=\"24px\"viewBox=\"0 0 24 24\"\n",
              "       width=\"24px\">\n",
              "    <path d=\"M0 0h24v24H0V0z\" fill=\"none\"/>\n",
              "    <path d=\"M18.56 5.44l.94 2.06.94-2.06 2.06-.94-2.06-.94-.94-2.06-.94 2.06-2.06.94zm-11 1L8.5 8.5l.94-2.06 2.06-.94-2.06-.94L8.5 2.5l-.94 2.06-2.06.94zm10 10l.94 2.06.94-2.06 2.06-.94-2.06-.94-.94-2.06-.94 2.06-2.06.94z\"/><path d=\"M17.41 7.96l-1.37-1.37c-.4-.4-.92-.59-1.43-.59-.52 0-1.04.2-1.43.59L10.3 9.45l-7.72 7.72c-.78.78-.78 2.05 0 2.83L4 21.41c.39.39.9.59 1.41.59.51 0 1.02-.2 1.41-.59l7.78-7.78 2.81-2.81c.8-.78.8-2.07 0-2.86zM5.41 20L4 18.59l7.72-7.72 1.47 1.35L5.41 20z\"/>\n",
              "  </svg>\n",
              "      </button>\n",
              "      \n",
              "  <style>\n",
              "    .colab-df-container {\n",
              "      display:flex;\n",
              "      flex-wrap:wrap;\n",
              "      gap: 12px;\n",
              "    }\n",
              "\n",
              "    .colab-df-convert {\n",
              "      background-color: #E8F0FE;\n",
              "      border: none;\n",
              "      border-radius: 50%;\n",
              "      cursor: pointer;\n",
              "      display: none;\n",
              "      fill: #1967D2;\n",
              "      height: 32px;\n",
              "      padding: 0 0 0 0;\n",
              "      width: 32px;\n",
              "    }\n",
              "\n",
              "    .colab-df-convert:hover {\n",
              "      background-color: #E2EBFA;\n",
              "      box-shadow: 0px 1px 2px rgba(60, 64, 67, 0.3), 0px 1px 3px 1px rgba(60, 64, 67, 0.15);\n",
              "      fill: #174EA6;\n",
              "    }\n",
              "\n",
              "    [theme=dark] .colab-df-convert {\n",
              "      background-color: #3B4455;\n",
              "      fill: #D2E3FC;\n",
              "    }\n",
              "\n",
              "    [theme=dark] .colab-df-convert:hover {\n",
              "      background-color: #434B5C;\n",
              "      box-shadow: 0px 1px 3px 1px rgba(0, 0, 0, 0.15);\n",
              "      filter: drop-shadow(0px 1px 2px rgba(0, 0, 0, 0.3));\n",
              "      fill: #FFFFFF;\n",
              "    }\n",
              "  </style>\n",
              "\n",
              "      <script>\n",
              "        const buttonEl =\n",
              "          document.querySelector('#df-efd96519-85c5-4a1c-9d62-957e0b171461 button.colab-df-convert');\n",
              "        buttonEl.style.display =\n",
              "          google.colab.kernel.accessAllowed ? 'block' : 'none';\n",
              "\n",
              "        async function convertToInteractive(key) {\n",
              "          const element = document.querySelector('#df-efd96519-85c5-4a1c-9d62-957e0b171461');\n",
              "          const dataTable =\n",
              "            await google.colab.kernel.invokeFunction('convertToInteractive',\n",
              "                                                     [key], {});\n",
              "          if (!dataTable) return;\n",
              "\n",
              "          const docLinkHtml = 'Like what you see? Visit the ' +\n",
              "            '<a target=\"_blank\" href=https://colab.research.google.com/notebooks/data_table.ipynb>data table notebook</a>'\n",
              "            + ' to learn more about interactive tables.';\n",
              "          element.innerHTML = '';\n",
              "          dataTable['output_type'] = 'display_data';\n",
              "          await google.colab.output.renderOutput(dataTable, element);\n",
              "          const docLink = document.createElement('div');\n",
              "          docLink.innerHTML = docLinkHtml;\n",
              "          element.appendChild(docLink);\n",
              "        }\n",
              "      </script>\n",
              "    </div>\n",
              "  </div>\n",
              "  "
            ]
          },
          "metadata": {},
          "execution_count": 39
        }
      ],
      "source": [
        "#Latihan(11)\n",
        "#Tampilkan data dari \"meets\" untuk kolom MeetID dan MeetPath\n",
        "\n",
        "df.loc[:, ['MeetID', 'MeetPath']]"
      ]
    },
    {
      "cell_type": "markdown",
      "metadata": {
        "id": "je3DKhn9kvHe"
      },
      "source": [
        "# Latihan (12)\n",
        "\n",
        "Tampilkan data dari \"meets\" untuk kolom MeetID dan MeetPath, mulai dari indeks 0 (nol) sampai dengan indeks 10 (sepuluh)"
      ]
    },
    {
      "cell_type": "code",
      "execution_count": 40,
      "metadata": {
        "id": "6YbJFBNKkvHe",
        "colab": {
          "base_uri": "https://localhost:8080/",
          "height": 394
        },
        "outputId": "8b91ed77-e636-4330-f262-577669306b82"
      },
      "outputs": [
        {
          "output_type": "execute_result",
          "data": {
            "text/plain": [
              "    MeetID        MeetPath\n",
              "0        0  365strong/1601\n",
              "1        1  365strong/1602\n",
              "2        2  365strong/1603\n",
              "3        3  365strong/1604\n",
              "4        4  365strong/1605\n",
              "5        5  365strong/1701\n",
              "6        6  365strong/1702\n",
              "7        7  365strong/1703\n",
              "8        8  365strong/1704\n",
              "9        9  365strong/1705\n",
              "10      10  365strong/1706"
            ],
            "text/html": [
              "\n",
              "  <div id=\"df-9d07d057-c028-426d-b05b-3730be40584b\">\n",
              "    <div class=\"colab-df-container\">\n",
              "      <div>\n",
              "<style scoped>\n",
              "    .dataframe tbody tr th:only-of-type {\n",
              "        vertical-align: middle;\n",
              "    }\n",
              "\n",
              "    .dataframe tbody tr th {\n",
              "        vertical-align: top;\n",
              "    }\n",
              "\n",
              "    .dataframe thead th {\n",
              "        text-align: right;\n",
              "    }\n",
              "</style>\n",
              "<table border=\"1\" class=\"dataframe\">\n",
              "  <thead>\n",
              "    <tr style=\"text-align: right;\">\n",
              "      <th></th>\n",
              "      <th>MeetID</th>\n",
              "      <th>MeetPath</th>\n",
              "    </tr>\n",
              "  </thead>\n",
              "  <tbody>\n",
              "    <tr>\n",
              "      <th>0</th>\n",
              "      <td>0</td>\n",
              "      <td>365strong/1601</td>\n",
              "    </tr>\n",
              "    <tr>\n",
              "      <th>1</th>\n",
              "      <td>1</td>\n",
              "      <td>365strong/1602</td>\n",
              "    </tr>\n",
              "    <tr>\n",
              "      <th>2</th>\n",
              "      <td>2</td>\n",
              "      <td>365strong/1603</td>\n",
              "    </tr>\n",
              "    <tr>\n",
              "      <th>3</th>\n",
              "      <td>3</td>\n",
              "      <td>365strong/1604</td>\n",
              "    </tr>\n",
              "    <tr>\n",
              "      <th>4</th>\n",
              "      <td>4</td>\n",
              "      <td>365strong/1605</td>\n",
              "    </tr>\n",
              "    <tr>\n",
              "      <th>5</th>\n",
              "      <td>5</td>\n",
              "      <td>365strong/1701</td>\n",
              "    </tr>\n",
              "    <tr>\n",
              "      <th>6</th>\n",
              "      <td>6</td>\n",
              "      <td>365strong/1702</td>\n",
              "    </tr>\n",
              "    <tr>\n",
              "      <th>7</th>\n",
              "      <td>7</td>\n",
              "      <td>365strong/1703</td>\n",
              "    </tr>\n",
              "    <tr>\n",
              "      <th>8</th>\n",
              "      <td>8</td>\n",
              "      <td>365strong/1704</td>\n",
              "    </tr>\n",
              "    <tr>\n",
              "      <th>9</th>\n",
              "      <td>9</td>\n",
              "      <td>365strong/1705</td>\n",
              "    </tr>\n",
              "    <tr>\n",
              "      <th>10</th>\n",
              "      <td>10</td>\n",
              "      <td>365strong/1706</td>\n",
              "    </tr>\n",
              "  </tbody>\n",
              "</table>\n",
              "</div>\n",
              "      <button class=\"colab-df-convert\" onclick=\"convertToInteractive('df-9d07d057-c028-426d-b05b-3730be40584b')\"\n",
              "              title=\"Convert this dataframe to an interactive table.\"\n",
              "              style=\"display:none;\">\n",
              "        \n",
              "  <svg xmlns=\"http://www.w3.org/2000/svg\" height=\"24px\"viewBox=\"0 0 24 24\"\n",
              "       width=\"24px\">\n",
              "    <path d=\"M0 0h24v24H0V0z\" fill=\"none\"/>\n",
              "    <path d=\"M18.56 5.44l.94 2.06.94-2.06 2.06-.94-2.06-.94-.94-2.06-.94 2.06-2.06.94zm-11 1L8.5 8.5l.94-2.06 2.06-.94-2.06-.94L8.5 2.5l-.94 2.06-2.06.94zm10 10l.94 2.06.94-2.06 2.06-.94-2.06-.94-.94-2.06-.94 2.06-2.06.94z\"/><path d=\"M17.41 7.96l-1.37-1.37c-.4-.4-.92-.59-1.43-.59-.52 0-1.04.2-1.43.59L10.3 9.45l-7.72 7.72c-.78.78-.78 2.05 0 2.83L4 21.41c.39.39.9.59 1.41.59.51 0 1.02-.2 1.41-.59l7.78-7.78 2.81-2.81c.8-.78.8-2.07 0-2.86zM5.41 20L4 18.59l7.72-7.72 1.47 1.35L5.41 20z\"/>\n",
              "  </svg>\n",
              "      </button>\n",
              "      \n",
              "  <style>\n",
              "    .colab-df-container {\n",
              "      display:flex;\n",
              "      flex-wrap:wrap;\n",
              "      gap: 12px;\n",
              "    }\n",
              "\n",
              "    .colab-df-convert {\n",
              "      background-color: #E8F0FE;\n",
              "      border: none;\n",
              "      border-radius: 50%;\n",
              "      cursor: pointer;\n",
              "      display: none;\n",
              "      fill: #1967D2;\n",
              "      height: 32px;\n",
              "      padding: 0 0 0 0;\n",
              "      width: 32px;\n",
              "    }\n",
              "\n",
              "    .colab-df-convert:hover {\n",
              "      background-color: #E2EBFA;\n",
              "      box-shadow: 0px 1px 2px rgba(60, 64, 67, 0.3), 0px 1px 3px 1px rgba(60, 64, 67, 0.15);\n",
              "      fill: #174EA6;\n",
              "    }\n",
              "\n",
              "    [theme=dark] .colab-df-convert {\n",
              "      background-color: #3B4455;\n",
              "      fill: #D2E3FC;\n",
              "    }\n",
              "\n",
              "    [theme=dark] .colab-df-convert:hover {\n",
              "      background-color: #434B5C;\n",
              "      box-shadow: 0px 1px 3px 1px rgba(0, 0, 0, 0.15);\n",
              "      filter: drop-shadow(0px 1px 2px rgba(0, 0, 0, 0.3));\n",
              "      fill: #FFFFFF;\n",
              "    }\n",
              "  </style>\n",
              "\n",
              "      <script>\n",
              "        const buttonEl =\n",
              "          document.querySelector('#df-9d07d057-c028-426d-b05b-3730be40584b button.colab-df-convert');\n",
              "        buttonEl.style.display =\n",
              "          google.colab.kernel.accessAllowed ? 'block' : 'none';\n",
              "\n",
              "        async function convertToInteractive(key) {\n",
              "          const element = document.querySelector('#df-9d07d057-c028-426d-b05b-3730be40584b');\n",
              "          const dataTable =\n",
              "            await google.colab.kernel.invokeFunction('convertToInteractive',\n",
              "                                                     [key], {});\n",
              "          if (!dataTable) return;\n",
              "\n",
              "          const docLinkHtml = 'Like what you see? Visit the ' +\n",
              "            '<a target=\"_blank\" href=https://colab.research.google.com/notebooks/data_table.ipynb>data table notebook</a>'\n",
              "            + ' to learn more about interactive tables.';\n",
              "          element.innerHTML = '';\n",
              "          dataTable['output_type'] = 'display_data';\n",
              "          await google.colab.output.renderOutput(dataTable, element);\n",
              "          const docLink = document.createElement('div');\n",
              "          docLink.innerHTML = docLinkHtml;\n",
              "          element.appendChild(docLink);\n",
              "        }\n",
              "      </script>\n",
              "    </div>\n",
              "  </div>\n",
              "  "
            ]
          },
          "metadata": {},
          "execution_count": 40
        }
      ],
      "source": [
        "#Latihan(12)\n",
        "#Tampilkan data dari \"Meets\" untuk kolom MeetID dan MeetPath, mulai dari indeks 0 (nol) sampai dengan indeks 10 (sepuluh)\n",
        "\n",
        "df.loc[0:10, ['MeetID', 'MeetPath']]"
      ]
    },
    {
      "cell_type": "markdown",
      "metadata": {
        "id": "JSX8H2h9kvHe"
      },
      "source": [
        "# Penggunaan Library Matplotlib"
      ]
    },
    {
      "cell_type": "markdown",
      "metadata": {
        "id": "wybdlSOTkvHf"
      },
      "source": [
        "# Latihan (13)\n",
        "\n",
        "Lakukan import Library Matplotlib"
      ]
    },
    {
      "cell_type": "code",
      "execution_count": 41,
      "metadata": {
        "id": "q6qf--c9kvHf"
      },
      "outputs": [],
      "source": [
        "#Latihan(13)\n",
        "#Import Library Matplotlib\n",
        "\n",
        "import matplotlib.pyplot as plt"
      ]
    },
    {
      "cell_type": "markdown",
      "metadata": {
        "id": "gpjlzpTckvHf"
      },
      "source": [
        "# Latihan (14)\n",
        "\n",
        "Buatlah visualisasi dalam bentuk histogram pada data \"Meets\" untuk kolom size"
      ]
    },
    {
      "cell_type": "code",
      "execution_count": 42,
      "metadata": {
        "id": "TEn-oR_vkvHg",
        "colab": {
          "base_uri": "https://localhost:8080/",
          "height": 281
        },
        "outputId": "f07cb102-d65f-4a2e-aab5-f5da2a714ef4"
      },
      "outputs": [
        {
          "output_type": "display_data",
          "data": {
            "text/plain": [
              "<Figure size 432x288 with 1 Axes>"
            ],
            "image/png": "[encoded data removed]"
          },
          "metadata": {
            "needs_background": "light"
          }
        }
      ],
      "source": [
        "#Latihan(14)\n",
        "#Buat histogram untuk kolom MeetID\n",
        "\n",
        "df.hist(column='MeetID', bins=30);"
      ]
    },
    {
      "cell_type": "markdown",
      "metadata": {
        "id": "bn8p0lc-kvHg"
      },
      "source": [
        "# Latihan (15)\n",
        "\n",
        "Buatlah visualisasi dalam bentuk grafik (plot) pada data \"Meets\" untuk kolom age dan kolom size"
      ]
    },
    {
      "cell_type": "code",
      "execution_count": 43,
      "metadata": {
        "id": "GeEYRKv7kvHg"
      },
      "outputs": [],
      "source": [
        "df.sort_values(\"MeetID\", axis = 0, ascending = True,\n",
        "                 inplace = True, na_position ='last')"
      ]
    },
    {
      "cell_type": "markdown",
      "metadata": {
        "id": "sObj6imUkvHg"
      },
      "source": [
        "# Latihan (16)\n",
        "\n",
        "Buatlah visualisasi dalam bentuk grafik (plot) pada data \"meets\" untuk kolom MeetID dan kolom MeetPath"
      ]
    },
    {
      "cell_type": "code",
      "execution_count": 44,
      "metadata": {
        "id": "_SVC7IhFkvHh",
        "colab": {
          "base_uri": "https://localhost:8080/",
          "height": 346
        },
        "outputId": "5c5da121-4a84-421a-a300-38617893271c"
      },
      "outputs": [
        {
          "output_type": "error",
          "ename": "TypeError",
          "evalue": "ignored",
          "traceback": [
            "\u001b[0;31m---------------------------------------------------------------------------\u001b[0m",
            "\u001b[0;31mTypeError\u001b[0m                                 Traceback (most recent call last)",
            "\u001b[0;32m<ipython-input-44-76213d5bb6c4>\u001b[0m in \u001b[0;36m<module>\u001b[0;34m()\u001b[0m\n\u001b[1;32m      2\u001b[0m \u001b[0;31m#Visualisasi dalam bentuk grafik (plot) pada data \"meets\" untuk kolom MeetID dan kolom MeetPath\u001b[0m\u001b[0;34m\u001b[0m\u001b[0;34m\u001b[0m\u001b[0;34m\u001b[0m\u001b[0m\n\u001b[1;32m      3\u001b[0m \u001b[0;34m\u001b[0m\u001b[0m\n\u001b[0;32m----> 4\u001b[0;31m \u001b[0mdf\u001b[0m\u001b[0;34m.\u001b[0m\u001b[0mplot\u001b[0m\u001b[0;34m(\u001b[0m\u001b[0;34m\"MeetID\"\u001b[0m\u001b[0;34m,\u001b[0m\u001b[0;34m\"MeetPath\"\u001b[0m\u001b[0;34m)\u001b[0m\u001b[0;34m\u001b[0m\u001b[0;34m\u001b[0m\u001b[0m\n\u001b[0m",
            "\u001b[0;32m/usr/local/lib/python3.7/dist-packages/pandas/plotting/_core.py\u001b[0m in \u001b[0;36m__call__\u001b[0;34m(self, *args, **kwargs)\u001b[0m\n\u001b[1;32m    970\u001b[0m                     \u001b[0mdata\u001b[0m\u001b[0;34m.\u001b[0m\u001b[0mcolumns\u001b[0m \u001b[0;34m=\u001b[0m \u001b[0mlabel_name\u001b[0m\u001b[0;34m\u001b[0m\u001b[0;34m\u001b[0m\u001b[0m\n\u001b[1;32m    971\u001b[0m \u001b[0;34m\u001b[0m\u001b[0m\n\u001b[0;32m--> 972\u001b[0;31m         \u001b[0;32mreturn\u001b[0m \u001b[0mplot_backend\u001b[0m\u001b[0;34m.\u001b[0m\u001b[0mplot\u001b[0m\u001b[0;34m(\u001b[0m\u001b[0mdata\u001b[0m\u001b[0;34m,\u001b[0m \u001b[0mkind\u001b[0m\u001b[0;34m=\u001b[0m\u001b[0mkind\u001b[0m\u001b[0;34m,\u001b[0m \u001b[0;34m**\u001b[0m\u001b[0mkwargs\u001b[0m\u001b[0;34m)\u001b[0m\u001b[0;34m\u001b[0m\u001b[0;34m\u001b[0m\u001b[0m\n\u001b[0m\u001b[1;32m    973\u001b[0m \u001b[0;34m\u001b[0m\u001b[0m\n\u001b[1;32m    974\u001b[0m     \u001b[0m__call__\u001b[0m\u001b[0;34m.\u001b[0m\u001b[0m__doc__\u001b[0m \u001b[0;34m=\u001b[0m \u001b[0m__doc__\u001b[0m\u001b[0;34m\u001b[0m\u001b[0;34m\u001b[0m\u001b[0m\n",
            "\u001b[0;32m/usr/local/lib/python3.7/dist-packages/pandas/plotting/_matplotlib/__init__.py\u001b[0m in \u001b[0;36mplot\u001b[0;34m(data, kind, **kwargs)\u001b[0m\n\u001b[1;32m     69\u001b[0m             \u001b[0mkwargs\u001b[0m\u001b[0;34m[\u001b[0m\u001b[0;34m\"ax\"\u001b[0m\u001b[0;34m]\u001b[0m \u001b[0;34m=\u001b[0m \u001b[0mgetattr\u001b[0m\u001b[0;34m(\u001b[0m\u001b[0max\u001b[0m\u001b[0;34m,\u001b[0m \u001b[0;34m\"left_ax\"\u001b[0m\u001b[0;34m,\u001b[0m \u001b[0max\u001b[0m\u001b[0;34m)\u001b[0m\u001b[0;34m\u001b[0m\u001b[0;34m\u001b[0m\u001b[0m\n\u001b[1;32m     70\u001b[0m     \u001b[0mplot_obj\u001b[0m \u001b[0;34m=\u001b[0m \u001b[0mPLOT_CLASSES\u001b[0m\u001b[0;34m[\u001b[0m\u001b[0mkind\u001b[0m\u001b[0;34m]\u001b[0m\u001b[0;34m(\u001b[0m\u001b[0mdata\u001b[0m\u001b[0;34m,\u001b[0m \u001b[0;34m**\u001b[0m\u001b[0mkwargs\u001b[0m\u001b[0;34m)\u001b[0m\u001b[0;34m\u001b[0m\u001b[0;34m\u001b[0m\u001b[0m\n\u001b[0;32m---> 71\u001b[0;31m     \u001b[0mplot_obj\u001b[0m\u001b[0;34m.\u001b[0m\u001b[0mgenerate\u001b[0m\u001b[0;34m(\u001b[0m\u001b[0;34m)\u001b[0m\u001b[0;34m\u001b[0m\u001b[0;34m\u001b[0m\u001b[0m\n\u001b[0m\u001b[1;32m     72\u001b[0m     \u001b[0mplot_obj\u001b[0m\u001b[0;34m.\u001b[0m\u001b[0mdraw\u001b[0m\u001b[0;34m(\u001b[0m\u001b[0;34m)\u001b[0m\u001b[0;34m\u001b[0m\u001b[0;34m\u001b[0m\u001b[0m\n\u001b[1;32m     73\u001b[0m     \u001b[0;32mreturn\u001b[0m \u001b[0mplot_obj\u001b[0m\u001b[0;34m.\u001b[0m\u001b[0mresult\u001b[0m\u001b[0;34m\u001b[0m\u001b[0;34m\u001b[0m\u001b[0m\n",
            "\u001b[0;32m/usr/local/lib/python3.7/dist-packages/pandas/plotting/_matplotlib/core.py\u001b[0m in \u001b[0;36mgenerate\u001b[0;34m(self)\u001b[0m\n\u001b[1;32m    284\u001b[0m     \u001b[0;32mdef\u001b[0m \u001b[0mgenerate\u001b[0m\u001b[0;34m(\u001b[0m\u001b[0mself\u001b[0m\u001b[0;34m)\u001b[0m\u001b[0;34m:\u001b[0m\u001b[0;34m\u001b[0m\u001b[0;34m\u001b[0m\u001b[0m\n\u001b[1;32m    285\u001b[0m         \u001b[0mself\u001b[0m\u001b[0;34m.\u001b[0m\u001b[0m_args_adjust\u001b[0m\u001b[0;34m(\u001b[0m\u001b[0;34m)\u001b[0m\u001b[0;34m\u001b[0m\u001b[0;34m\u001b[0m\u001b[0m\n\u001b[0;32m--> 286\u001b[0;31m         \u001b[0mself\u001b[0m\u001b[0;34m.\u001b[0m\u001b[0m_compute_plot_data\u001b[0m\u001b[0;34m(\u001b[0m\u001b[0;34m)\u001b[0m\u001b[0;34m\u001b[0m\u001b[0;34m\u001b[0m\u001b[0m\n\u001b[0m\u001b[1;32m    287\u001b[0m         \u001b[0mself\u001b[0m\u001b[0;34m.\u001b[0m\u001b[0m_setup_subplots\u001b[0m\u001b[0;34m(\u001b[0m\u001b[0;34m)\u001b[0m\u001b[0;34m\u001b[0m\u001b[0;34m\u001b[0m\u001b[0m\n\u001b[1;32m    288\u001b[0m         \u001b[0mself\u001b[0m\u001b[0;34m.\u001b[0m\u001b[0m_make_plot\u001b[0m\u001b[0;34m(\u001b[0m\u001b[0;34m)\u001b[0m\u001b[0;34m\u001b[0m\u001b[0;34m\u001b[0m\u001b[0m\n",
            "\u001b[0;32m/usr/local/lib/python3.7/dist-packages/pandas/plotting/_matplotlib/core.py\u001b[0m in \u001b[0;36m_compute_plot_data\u001b[0;34m(self)\u001b[0m\n\u001b[1;32m    451\u001b[0m         \u001b[0;31m# no non-numeric frames or series allowed\u001b[0m\u001b[0;34m\u001b[0m\u001b[0;34m\u001b[0m\u001b[0;34m\u001b[0m\u001b[0m\n\u001b[1;32m    452\u001b[0m         \u001b[0;32mif\u001b[0m \u001b[0mis_empty\u001b[0m\u001b[0;34m:\u001b[0m\u001b[0;34m\u001b[0m\u001b[0;34m\u001b[0m\u001b[0m\n\u001b[0;32m--> 453\u001b[0;31m             \u001b[0;32mraise\u001b[0m \u001b[0mTypeError\u001b[0m\u001b[0;34m(\u001b[0m\u001b[0;34m\"no numeric data to plot\"\u001b[0m\u001b[0;34m)\u001b[0m\u001b[0;34m\u001b[0m\u001b[0;34m\u001b[0m\u001b[0m\n\u001b[0m\u001b[1;32m    454\u001b[0m \u001b[0;34m\u001b[0m\u001b[0m\n\u001b[1;32m    455\u001b[0m         \u001b[0mself\u001b[0m\u001b[0;34m.\u001b[0m\u001b[0mdata\u001b[0m \u001b[0;34m=\u001b[0m \u001b[0mnumeric_data\u001b[0m\u001b[0;34m.\u001b[0m\u001b[0mapply\u001b[0m\u001b[0;34m(\u001b[0m\u001b[0mself\u001b[0m\u001b[0;34m.\u001b[0m\u001b[0m_convert_to_ndarray\u001b[0m\u001b[0;34m)\u001b[0m\u001b[0;34m\u001b[0m\u001b[0;34m\u001b[0m\u001b[0m\n",
            "\u001b[0;31mTypeError\u001b[0m: no numeric data to plot"
          ]
        }
      ],
      "source": [
        "#Latihan(16)\n",
        "#Visualisasi dalam bentuk grafik (plot) pada data \"meets\" untuk kolom MeetID dan kolom MeetPath\n",
        "\n",
        "df.plot(\"MeetID\",\"MeetPath\")"
      ]
    },
    {
      "cell_type": "markdown",
      "metadata": {
        "id": "6sz2GIc6kvHh"
      },
      "source": [
        "# Latihan (17)\n",
        "\n",
        "Import library seaborn"
      ]
    },
    {
      "cell_type": "code",
      "execution_count": null,
      "metadata": {
        "id": "2LKSq-RCkvHh"
      },
      "outputs": [],
      "source": [
        "#Latihan(17)\n",
        "#Import library seaborn\n",
        "\n",
        "..............."
      ]
    },
    {
      "cell_type": "markdown",
      "metadata": {
        "id": "HwuLRRUzkvHh"
      },
      "source": [
        "# Latihan (18)\n",
        "\n",
        "Buatlah visualisasi dalam bentuk scatterplot pada data \"cloth_data\" untuk kolom age dan kolom size"
      ]
    },
    {
      "cell_type": "code",
      "execution_count": null,
      "metadata": {
        "id": "6g-hTOK9kvHh"
      },
      "outputs": [],
      "source": [
        "#latihan(18)\n",
        "#Buat scatterplot dengan kolom age dan size\n",
        "\n",
        "............"
      ]
    },
    {
      "cell_type": "markdown",
      "metadata": {
        "id": "jdPDRHerkvHh"
      },
      "source": [
        "# Latihan (19)\n",
        "\n",
        "Buatlah visualisasi dalam bentuk scatterplot pada data \"cloth_data\" untuk kolom size dan kolom age"
      ]
    },
    {
      "cell_type": "code",
      "execution_count": null,
      "metadata": {
        "id": "xzKneZKtkvHh"
      },
      "outputs": [],
      "source": [
        "#latihan(19)\n",
        "#Buat scatterplot dengan kolom size dan age\n",
        "\n",
        "....................."
      ]
    },
    {
      "cell_type": "markdown",
      "metadata": {
        "id": "B6qpvdxEkvHi"
      },
      "source": [
        "# Latihan (20)\n",
        "\n",
        "Buatlah visualisasi dalam bentuk histogram pada data \"cloth_data\" untuk kolom age"
      ]
    },
    {
      "cell_type": "code",
      "execution_count": null,
      "metadata": {
        "id": "fv46oiG7kvHi"
      },
      "outputs": [],
      "source": [
        "#Latihan(20)\n",
        "#Buat histogram untuk kolom size\n",
        "\n",
        "...................."
      ]
    }
  ],
  "metadata": {
    "kernelspec": {
      "display_name": "Python 3",
      "language": "python",
      "name": "python3"
    },
    "language_info": {
      "codemirror_mode": {
        "name": "ipython",
        "version": 3
      },
      "file_extension": ".py",
      "mimetype": "text/x-python",
      "name": "python",
      "nbconvert_exporter": "python",
      "pygments_lexer": "ipython3",
      "version": "3.8.8"
    },
    "colab": {
      "name": "Latihan 1 1/2.ipynb",
      "provenance": [],
      "include_colab_link": true
    }
  },
  "nbformat": 4,
  "nbformat_minor": 0
}